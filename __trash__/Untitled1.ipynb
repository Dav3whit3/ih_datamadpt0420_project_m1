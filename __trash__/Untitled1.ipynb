{
 "cells": [
  {
   "cell_type": "code",
   "execution_count": 46,
   "metadata": {},
   "outputs": [],
   "source": [
    "import pandas as pd\n",
    "import requests\n",
    "def get_job_titles(url, json_acum=[], calls=0):\n",
    "    print(f'Getting info from {url}')\n",
    "    response = requests.get(url)\n",
    "    json = response.json()\n",
    "    json_acum.append(json[:-1])\n",
    "\n",
    "    root = 'http://api.dataatwork.org/v1'\n",
    "    link = json[-1]['links'][2]['href']\n",
    "\n",
    "    next_link = f'{root}{link}'\n",
    "\n",
    "    if calls <= 5:\n",
    "        get_job_titles(next_link, json_acum, calls + 1)\n",
    "\n",
    "    jobs_df = []\n",
    "    for result in json_acum:\n",
    "        jobs_df.extend(result)\n",
    "\n",
    "    return pd.DataFrame(jobs_df)"
   ]
  },
  {
   "cell_type": "code",
   "execution_count": 47,
   "metadata": {},
   "outputs": [
    {
     "name": "stdout",
     "output_type": "stream",
     "text": [
      "Getting info from http://api.dataatwork.org/v1/jobs?limit=500\n",
      "Getting info from http://api.dataatwork.org/v1/jobs?offset=500&limit=500\n",
      "Getting info from http://api.dataatwork.org/v1/jobs?offset=0&limit=500\n",
      "Getting info from http://api.dataatwork.org/v1/jobs?offset=500&limit=500\n",
      "Getting info from http://api.dataatwork.org/v1/jobs?offset=0&limit=500\n",
      "Getting info from http://api.dataatwork.org/v1/jobs?offset=500&limit=500\n",
      "Getting info from http://api.dataatwork.org/v1/jobs?offset=0&limit=500\n"
     ]
    }
   ],
   "source": [
    "url = 'http://api.dataatwork.org/v1/jobs?limit=500'\n",
    "a = get_job_titles(url)"
   ]
  },
  {
   "cell_type": "code",
   "execution_count": 48,
   "metadata": {},
   "outputs": [
    {
     "data": {
      "text/html": [
       "<div>\n",
       "<style scoped>\n",
       "    .dataframe tbody tr th:only-of-type {\n",
       "        vertical-align: middle;\n",
       "    }\n",
       "\n",
       "    .dataframe tbody tr th {\n",
       "        vertical-align: top;\n",
       "    }\n",
       "\n",
       "    .dataframe thead th {\n",
       "        text-align: right;\n",
       "    }\n",
       "</style>\n",
       "<table border=\"1\" class=\"dataframe\">\n",
       "  <thead>\n",
       "    <tr style=\"text-align: right;\">\n",
       "      <th></th>\n",
       "      <th>uuid</th>\n",
       "      <th>title</th>\n",
       "      <th>normalized_job_title</th>\n",
       "      <th>parent_uuid</th>\n",
       "    </tr>\n",
       "  </thead>\n",
       "  <tbody>\n",
       "    <tr>\n",
       "      <th>0</th>\n",
       "      <td>26bc4486dfd0f60b3bb0d8d64e001800</td>\n",
       "      <td>1st Grade Teacher</td>\n",
       "      <td>1st grade teacher</td>\n",
       "      <td>51cc95467c1844c7dc1d923265c023b2</td>\n",
       "    </tr>\n",
       "    <tr>\n",
       "      <th>1</th>\n",
       "      <td>9be6e14491305132c175cb1781a3356c</td>\n",
       "      <td>1st Pressman</td>\n",
       "      <td>1st pressman</td>\n",
       "      <td>96f1cf15fe5880d8660c70f0756944ab</td>\n",
       "    </tr>\n",
       "    <tr>\n",
       "      <th>2</th>\n",
       "      <td>d38d16bab3f9f25ae34ae3e2aad254d4</td>\n",
       "      <td>1st Pressman On Web Press</td>\n",
       "      <td>1st pressman on web press</td>\n",
       "      <td>96f1cf15fe5880d8660c70f0756944ab</td>\n",
       "    </tr>\n",
       "    <tr>\n",
       "      <th>3</th>\n",
       "      <td>8576a78b5c1cae3a567ca7fd34500357</td>\n",
       "      <td>21 Dealer</td>\n",
       "      <td>21 dealer</td>\n",
       "      <td>4be080220c824dcb435d59ebf1c3ce80</td>\n",
       "    </tr>\n",
       "    <tr>\n",
       "      <th>4</th>\n",
       "      <td>a59278d7f653db37e54a270345a91a05</td>\n",
       "      <td>2nd Grade Teacher</td>\n",
       "      <td>2nd grade teacher</td>\n",
       "      <td>51cc95467c1844c7dc1d923265c023b2</td>\n",
       "    </tr>\n",
       "    <tr>\n",
       "      <th>...</th>\n",
       "      <td>...</td>\n",
       "      <td>...</td>\n",
       "      <td>...</td>\n",
       "      <td>...</td>\n",
       "    </tr>\n",
       "    <tr>\n",
       "      <th>3495</th>\n",
       "      <td>d4195c4a24dd9a957d72e04904fdfa66</td>\n",
       "      <td>Advanced Manufacturing Technician</td>\n",
       "      <td>advanced manufacturing technician</td>\n",
       "      <td>98de71a2b00a1c9d904ea3465884889f</td>\n",
       "    </tr>\n",
       "    <tr>\n",
       "      <th>3496</th>\n",
       "      <td>d33e11c696ad4879ade1dfdb1825f1a2</td>\n",
       "      <td>Advanced Military Source Operations Officer (A...</td>\n",
       "      <td>advanced military source operations officer amsoo</td>\n",
       "      <td>06dd2fcfd18994fa1bbb4d0b130983c9</td>\n",
       "    </tr>\n",
       "    <tr>\n",
       "      <th>3497</th>\n",
       "      <td>b336cb9e4c4371116af7a810c386cd5b</td>\n",
       "      <td>Advanced Military Source Operations Specialist...</td>\n",
       "      <td>advanced military source operations specialist...</td>\n",
       "      <td>38fa0f1e4f3af4981a3bce137272c212</td>\n",
       "    </tr>\n",
       "    <tr>\n",
       "      <th>3498</th>\n",
       "      <td>e2de516c216cb38540cc55ce01391e4f</td>\n",
       "      <td>Advanced Nursing Professor</td>\n",
       "      <td>advanced nursing professor</td>\n",
       "      <td>f11ff6b88b2dfb6a10020ee596cf8844</td>\n",
       "    </tr>\n",
       "    <tr>\n",
       "      <th>3499</th>\n",
       "      <td>e28657025fb7b66ff64c951d03702559</td>\n",
       "      <td>Advanced Practice Nurse, Cardiothoracic Surgery</td>\n",
       "      <td>advanced practice nurse cardiothoracic surgery</td>\n",
       "      <td>ceebffa1a369da0c4ebacf2722f95768</td>\n",
       "    </tr>\n",
       "  </tbody>\n",
       "</table>\n",
       "<p>3500 rows × 4 columns</p>\n",
       "</div>"
      ],
      "text/plain": [
       "                                  uuid  \\\n",
       "0     26bc4486dfd0f60b3bb0d8d64e001800   \n",
       "1     9be6e14491305132c175cb1781a3356c   \n",
       "2     d38d16bab3f9f25ae34ae3e2aad254d4   \n",
       "3     8576a78b5c1cae3a567ca7fd34500357   \n",
       "4     a59278d7f653db37e54a270345a91a05   \n",
       "...                                ...   \n",
       "3495  d4195c4a24dd9a957d72e04904fdfa66   \n",
       "3496  d33e11c696ad4879ade1dfdb1825f1a2   \n",
       "3497  b336cb9e4c4371116af7a810c386cd5b   \n",
       "3498  e2de516c216cb38540cc55ce01391e4f   \n",
       "3499  e28657025fb7b66ff64c951d03702559   \n",
       "\n",
       "                                                  title  \\\n",
       "0                                     1st Grade Teacher   \n",
       "1                                          1st Pressman   \n",
       "2                             1st Pressman On Web Press   \n",
       "3                                             21 Dealer   \n",
       "4                                     2nd Grade Teacher   \n",
       "...                                                 ...   \n",
       "3495                  Advanced Manufacturing Technician   \n",
       "3496  Advanced Military Source Operations Officer (A...   \n",
       "3497  Advanced Military Source Operations Specialist...   \n",
       "3498                         Advanced Nursing Professor   \n",
       "3499    Advanced Practice Nurse, Cardiothoracic Surgery   \n",
       "\n",
       "                                   normalized_job_title  \\\n",
       "0                                     1st grade teacher   \n",
       "1                                          1st pressman   \n",
       "2                             1st pressman on web press   \n",
       "3                                             21 dealer   \n",
       "4                                     2nd grade teacher   \n",
       "...                                                 ...   \n",
       "3495                  advanced manufacturing technician   \n",
       "3496  advanced military source operations officer amsoo   \n",
       "3497  advanced military source operations specialist...   \n",
       "3498                         advanced nursing professor   \n",
       "3499     advanced practice nurse cardiothoracic surgery   \n",
       "\n",
       "                           parent_uuid  \n",
       "0     51cc95467c1844c7dc1d923265c023b2  \n",
       "1     96f1cf15fe5880d8660c70f0756944ab  \n",
       "2     96f1cf15fe5880d8660c70f0756944ab  \n",
       "3     4be080220c824dcb435d59ebf1c3ce80  \n",
       "4     51cc95467c1844c7dc1d923265c023b2  \n",
       "...                                ...  \n",
       "3495  98de71a2b00a1c9d904ea3465884889f  \n",
       "3496  06dd2fcfd18994fa1bbb4d0b130983c9  \n",
       "3497  38fa0f1e4f3af4981a3bce137272c212  \n",
       "3498  f11ff6b88b2dfb6a10020ee596cf8844  \n",
       "3499  ceebffa1a369da0c4ebacf2722f95768  \n",
       "\n",
       "[3500 rows x 4 columns]"
      ]
     },
     "execution_count": 48,
     "metadata": {},
     "output_type": "execute_result"
    }
   ],
   "source": [
    "a"
   ]
  },
  {
   "cell_type": "code",
   "execution_count": null,
   "metadata": {},
   "outputs": [],
   "source": []
  },
  {
   "cell_type": "code",
   "execution_count": 21,
   "metadata": {},
   "outputs": [],
   "source": [
    "df1 = pd.DataFrame({'Codigo': ['1', '2']})\n",
    "dic = {'1': 'Medico', '2': 'Ingeniero'}"
   ]
  },
  {
   "cell_type": "code",
   "execution_count": 22,
   "metadata": {},
   "outputs": [
    {
     "data": {
      "text/html": [
       "<div>\n",
       "<style scoped>\n",
       "    .dataframe tbody tr th:only-of-type {\n",
       "        vertical-align: middle;\n",
       "    }\n",
       "\n",
       "    .dataframe tbody tr th {\n",
       "        vertical-align: top;\n",
       "    }\n",
       "\n",
       "    .dataframe thead th {\n",
       "        text-align: right;\n",
       "    }\n",
       "</style>\n",
       "<table border=\"1\" class=\"dataframe\">\n",
       "  <thead>\n",
       "    <tr style=\"text-align: right;\">\n",
       "      <th></th>\n",
       "      <th>Codigo</th>\n",
       "    </tr>\n",
       "  </thead>\n",
       "  <tbody>\n",
       "    <tr>\n",
       "      <th>0</th>\n",
       "      <td>1</td>\n",
       "    </tr>\n",
       "    <tr>\n",
       "      <th>1</th>\n",
       "      <td>2</td>\n",
       "    </tr>\n",
       "  </tbody>\n",
       "</table>\n",
       "</div>"
      ],
      "text/plain": [
       "  Codigo\n",
       "0      1\n",
       "1      2"
      ]
     },
     "execution_count": 22,
     "metadata": {},
     "output_type": "execute_result"
    }
   ],
   "source": [
    "df1"
   ]
  },
  {
   "cell_type": "code",
   "execution_count": null,
   "metadata": {},
   "outputs": [],
   "source": []
  },
  {
   "cell_type": "code",
   "execution_count": null,
   "metadata": {},
   "outputs": [],
   "source": []
  },
  {
   "cell_type": "code",
   "execution_count": 23,
   "metadata": {},
   "outputs": [
    {
     "data": {
      "text/plain": [
       "{'1': 'Medico', '2': 'Ingeniero'}"
      ]
     },
     "execution_count": 23,
     "metadata": {},
     "output_type": "execute_result"
    }
   ],
   "source": [
    "dic"
   ]
  },
  {
   "cell_type": "code",
   "execution_count": 24,
   "metadata": {},
   "outputs": [],
   "source": [
    "df1['Codigo'].replace(dic, inplace=True)"
   ]
  },
  {
   "cell_type": "code",
   "execution_count": 25,
   "metadata": {},
   "outputs": [
    {
     "data": {
      "text/html": [
       "<div>\n",
       "<style scoped>\n",
       "    .dataframe tbody tr th:only-of-type {\n",
       "        vertical-align: middle;\n",
       "    }\n",
       "\n",
       "    .dataframe tbody tr th {\n",
       "        vertical-align: top;\n",
       "    }\n",
       "\n",
       "    .dataframe thead th {\n",
       "        text-align: right;\n",
       "    }\n",
       "</style>\n",
       "<table border=\"1\" class=\"dataframe\">\n",
       "  <thead>\n",
       "    <tr style=\"text-align: right;\">\n",
       "      <th></th>\n",
       "      <th>Codigo</th>\n",
       "    </tr>\n",
       "  </thead>\n",
       "  <tbody>\n",
       "    <tr>\n",
       "      <th>0</th>\n",
       "      <td>Medico</td>\n",
       "    </tr>\n",
       "    <tr>\n",
       "      <th>1</th>\n",
       "      <td>Ingeniero</td>\n",
       "    </tr>\n",
       "  </tbody>\n",
       "</table>\n",
       "</div>"
      ],
      "text/plain": [
       "      Codigo\n",
       "0     Medico\n",
       "1  Ingeniero"
      ]
     },
     "execution_count": 25,
     "metadata": {},
     "output_type": "execute_result"
    }
   ],
   "source": [
    "df1"
   ]
  },
  {
   "cell_type": "code",
   "execution_count": 49,
   "metadata": {},
   "outputs": [],
   "source": [
    "dic = {'Codigo': ['1', '2'], 'Titulo': ['Medico', 'Ingeniero']}\n",
    "df1 = pd.DataFrame({'Codigo': ['1', '2', '1'], 'Persona': ['Alex', 'David', 'Pedro']})\n",
    "df2 = pd.DataFrame(dic, index=[e for e in range(len(dic))])"
   ]
  },
  {
   "cell_type": "code",
   "execution_count": 50,
   "metadata": {},
   "outputs": [
    {
     "data": {
      "text/html": [
       "<div>\n",
       "<style scoped>\n",
       "    .dataframe tbody tr th:only-of-type {\n",
       "        vertical-align: middle;\n",
       "    }\n",
       "\n",
       "    .dataframe tbody tr th {\n",
       "        vertical-align: top;\n",
       "    }\n",
       "\n",
       "    .dataframe thead th {\n",
       "        text-align: right;\n",
       "    }\n",
       "</style>\n",
       "<table border=\"1\" class=\"dataframe\">\n",
       "  <thead>\n",
       "    <tr style=\"text-align: right;\">\n",
       "      <th></th>\n",
       "      <th>Codigo</th>\n",
       "      <th>Persona</th>\n",
       "    </tr>\n",
       "  </thead>\n",
       "  <tbody>\n",
       "    <tr>\n",
       "      <th>0</th>\n",
       "      <td>1</td>\n",
       "      <td>Alex</td>\n",
       "    </tr>\n",
       "    <tr>\n",
       "      <th>1</th>\n",
       "      <td>2</td>\n",
       "      <td>David</td>\n",
       "    </tr>\n",
       "    <tr>\n",
       "      <th>2</th>\n",
       "      <td>1</td>\n",
       "      <td>Pedro</td>\n",
       "    </tr>\n",
       "  </tbody>\n",
       "</table>\n",
       "</div>"
      ],
      "text/plain": [
       "  Codigo Persona\n",
       "0      1    Alex\n",
       "1      2   David\n",
       "2      1   Pedro"
      ]
     },
     "execution_count": 50,
     "metadata": {},
     "output_type": "execute_result"
    }
   ],
   "source": [
    "df1"
   ]
  },
  {
   "cell_type": "code",
   "execution_count": 51,
   "metadata": {},
   "outputs": [
    {
     "data": {
      "text/html": [
       "<div>\n",
       "<style scoped>\n",
       "    .dataframe tbody tr th:only-of-type {\n",
       "        vertical-align: middle;\n",
       "    }\n",
       "\n",
       "    .dataframe tbody tr th {\n",
       "        vertical-align: top;\n",
       "    }\n",
       "\n",
       "    .dataframe thead th {\n",
       "        text-align: right;\n",
       "    }\n",
       "</style>\n",
       "<table border=\"1\" class=\"dataframe\">\n",
       "  <thead>\n",
       "    <tr style=\"text-align: right;\">\n",
       "      <th></th>\n",
       "      <th>Codigo</th>\n",
       "      <th>Titulo</th>\n",
       "    </tr>\n",
       "  </thead>\n",
       "  <tbody>\n",
       "    <tr>\n",
       "      <th>0</th>\n",
       "      <td>1</td>\n",
       "      <td>Medico</td>\n",
       "    </tr>\n",
       "    <tr>\n",
       "      <th>1</th>\n",
       "      <td>2</td>\n",
       "      <td>Ingeniero</td>\n",
       "    </tr>\n",
       "  </tbody>\n",
       "</table>\n",
       "</div>"
      ],
      "text/plain": [
       "  Codigo     Titulo\n",
       "0      1     Medico\n",
       "1      2  Ingeniero"
      ]
     },
     "execution_count": 51,
     "metadata": {},
     "output_type": "execute_result"
    }
   ],
   "source": [
    "df2"
   ]
  },
  {
   "cell_type": "code",
   "execution_count": 52,
   "metadata": {},
   "outputs": [
    {
     "data": {
      "text/html": [
       "<div>\n",
       "<style scoped>\n",
       "    .dataframe tbody tr th:only-of-type {\n",
       "        vertical-align: middle;\n",
       "    }\n",
       "\n",
       "    .dataframe tbody tr th {\n",
       "        vertical-align: top;\n",
       "    }\n",
       "\n",
       "    .dataframe thead th {\n",
       "        text-align: right;\n",
       "    }\n",
       "</style>\n",
       "<table border=\"1\" class=\"dataframe\">\n",
       "  <thead>\n",
       "    <tr style=\"text-align: right;\">\n",
       "      <th></th>\n",
       "      <th>Codigo</th>\n",
       "      <th>Persona</th>\n",
       "      <th>Titulo</th>\n",
       "    </tr>\n",
       "  </thead>\n",
       "  <tbody>\n",
       "    <tr>\n",
       "      <th>0</th>\n",
       "      <td>1</td>\n",
       "      <td>Alex</td>\n",
       "      <td>Medico</td>\n",
       "    </tr>\n",
       "    <tr>\n",
       "      <th>1</th>\n",
       "      <td>1</td>\n",
       "      <td>Pedro</td>\n",
       "      <td>Medico</td>\n",
       "    </tr>\n",
       "    <tr>\n",
       "      <th>2</th>\n",
       "      <td>2</td>\n",
       "      <td>David</td>\n",
       "      <td>Ingeniero</td>\n",
       "    </tr>\n",
       "  </tbody>\n",
       "</table>\n",
       "</div>"
      ],
      "text/plain": [
       "  Codigo Persona     Titulo\n",
       "0      1    Alex     Medico\n",
       "1      1   Pedro     Medico\n",
       "2      2   David  Ingeniero"
      ]
     },
     "execution_count": 52,
     "metadata": {},
     "output_type": "execute_result"
    }
   ],
   "source": [
    "df1.merge(df2, left_on='Codigo', right_on='Codigo')"
   ]
  },
  {
   "cell_type": "code",
   "execution_count": null,
   "metadata": {},
   "outputs": [],
   "source": []
  }
 ],
 "metadata": {
  "kernelspec": {
   "display_name": "Python [conda env:ironhack]",
   "language": "python",
   "name": "conda-env-ironhack-py"
  },
  "language_info": {
   "codemirror_mode": {
    "name": "ipython",
    "version": 3
   },
   "file_extension": ".py",
   "mimetype": "text/x-python",
   "name": "python",
   "nbconvert_exporter": "python",
   "pygments_lexer": "ipython3",
   "version": "3.7.7"
  }
 },
 "nbformat": 4,
 "nbformat_minor": 4
}
