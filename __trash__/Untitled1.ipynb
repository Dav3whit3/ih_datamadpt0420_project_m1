{
 "cells": [
  {
   "cell_type": "code",
   "execution_count": null,
   "metadata": {},
   "outputs": [],
   "source": [
    "def get_json(url, json_acum=[], calls=0):\n",
    "    print(f'Getting info from {url}')\n",
    "    response = requests.get(url)\n",
    "    json = response.json()\n",
    "    json_acum.append(json[:-1])\n",
    "\n",
    "    link = json[-1]['links'][2]['href']\n",
    "\n",
    "    next_link = f'{root}{link}'\n",
    "\n",
    "    if calls <= 5:\n",
    "        get_json(next_link, json_acum, calls + 1)\n",
    "\n",
    "    jobs_df = pd.DataFrame(json_acum[0])\n",
    "\n",
    "    return jobs_df"
   ]
  }
 ],
 "metadata": {
  "kernelspec": {
   "display_name": "Python [conda env:ironhack]",
   "language": "python",
   "name": "conda-env-ironhack-py"
  },
  "language_info": {
   "codemirror_mode": {
    "name": "ipython",
    "version": 3
   },
   "file_extension": ".py",
   "mimetype": "text/x-python",
   "name": "python",
   "nbconvert_exporter": "python",
   "pygments_lexer": "ipython3",
   "version": "3.7.7"
  }
 },
 "nbformat": 4,
 "nbformat_minor": 4
}
