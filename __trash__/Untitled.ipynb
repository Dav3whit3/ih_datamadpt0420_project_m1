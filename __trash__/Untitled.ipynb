{
 "cells": [
  {
   "cell_type": "code",
   "execution_count": 1,
   "metadata": {},
   "outputs": [],
   "source": [
    "import pandas as pd\n",
    "from sqlalchemy import create_engine\n",
    "#%load_ext sql\n",
    "#%config SqlMagic.autocommit = False\n",
    "\n",
    "def conection(db_path):\n",
    "    print(f'Conecting to {db_path}')\n",
    "    db_connection = create_engine(f'sqlite:////{db_path}')\n",
    "    \n",
    "    return db_connection"
   ]
  },
  {
   "cell_type": "code",
   "execution_count": 2,
   "metadata": {
    "jupyter": {
     "source_hidden": true
    }
   },
   "outputs": [
    {
     "data": {
      "text/plain": [
       "\" \\n%sql sqlite:////home/david/Documents/ih_datamadpt0420_project_m1/data/raw/raw_data_project_m1.db\\n\\n%%sql tables <<\\n\\nSELECT \\n    name\\nFROM \\n    sqlite_master \\nWHERE \\n    type ='table' AND \\n    name NOT LIKE 'sqlite_%';\\n    \\ntables\\n\\n\""
      ]
     },
     "execution_count": 2,
     "metadata": {},
     "output_type": "execute_result"
    }
   ],
   "source": [
    "''' \n",
    "%sql sqlite:////home/david/Documents/ih_datamadpt0420_project_m1/data/raw/raw_data_project_m1.db\n",
    "\n",
    "%%sql tables <<\n",
    "\n",
    "SELECT \n",
    "    name\n",
    "FROM \n",
    "    sqlite_master \n",
    "WHERE \n",
    "    type ='table' AND \n",
    "    name NOT LIKE 'sqlite_%';\n",
    "    \n",
    "tables\n",
    "\n",
    "''' "
   ]
  },
  {
   "cell_type": "code",
   "execution_count": 3,
   "metadata": {},
   "outputs": [],
   "source": [
    "def sql_query_to_df(table, data_base):\n",
    "    \n",
    "    select_all_query = pd.read_sql_query(f'SELECT * FROM {table}', data_base)\n",
    "    return select_all_query"
   ]
  },
  {
   "cell_type": "code",
   "execution_count": 4,
   "metadata": {},
   "outputs": [],
   "source": [
    "def tables_to_df(db_path):\n",
    "    \n",
    "    data_base = conection(db_path)\n",
    "    table_names = data_base.table_names()\n",
    "    \n",
    "    df_list = []\n",
    " \n",
    "    for table in table_names:\n",
    "        sql_query = sql_query_to_df(table, data_base)\n",
    "        df_list.append(sql_query)\n",
    "        \n",
    "    return df_list"
   ]
  },
  {
   "cell_type": "code",
   "execution_count": 10,
   "metadata": {},
   "outputs": [
    {
     "name": "stdout",
     "output_type": "stream",
     "text": [
      "Conecting to home/david/Documents/ih_datamadpt0420_project_m1/data/raw/raw_data_project_m1.db\n"
     ]
    }
   ],
   "source": [
    "db_path = 'home/david/Documents/ih_datamadpt0420_project_m1/data/raw/raw_data_project_m1.db'\n",
    "list_of_DF = tables_to_df(db_path)\n",
    "\n",
    "education_and_job = list_of_DF[0]\n",
    "country = list_of_DF[1]\n",
    "people = list_of_DF[2]\n",
    "questionaire = list_of_DF[3]"
   ]
  },
  {
   "cell_type": "code",
   "execution_count": 44,
   "metadata": {},
   "outputs": [],
   "source": [
    "unique_job_codes = education_and_job['normalized_job_code'].dropna().unique()"
   ]
  },
  {
   "cell_type": "code",
   "execution_count": null,
   "metadata": {},
   "outputs": [],
   "source": []
  }
 ],
 "metadata": {
  "kernelspec": {
   "display_name": "Python [conda env:ironhack]",
   "language": "python",
   "name": "conda-env-ironhack-py"
  },
  "language_info": {
   "codemirror_mode": {
    "name": "ipython",
    "version": 3
   },
   "file_extension": ".py",
   "mimetype": "text/x-python",
   "name": "python",
   "nbconvert_exporter": "python",
   "pygments_lexer": "ipython3",
   "version": "3.7.7"
  }
 },
 "nbformat": 4,
 "nbformat_minor": 4
}
