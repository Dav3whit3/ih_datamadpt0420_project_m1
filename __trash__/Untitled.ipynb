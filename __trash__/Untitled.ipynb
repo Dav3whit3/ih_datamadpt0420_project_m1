{
 "cells": [
  {
   "cell_type": "code",
   "execution_count": 37,
   "metadata": {},
   "outputs": [],
   "source": [
    "import pandas as pd\n",
    "from sqlalchemy import create_engine\n",
    "#%load_ext sql\n",
    "#%config SqlMagic.autocommit = False\n",
    "def conection(path):\n",
    "    db_connection = create_engine(f'sqlite:////{path}')\n",
    "    \n",
    "    return db_connection"
   ]
  },
  {
   "cell_type": "code",
   "execution_count": 38,
   "metadata": {},
   "outputs": [
    {
     "data": {
      "text/plain": [
       "\"\\n%sql sqlite:////home/david/Documents/ih_datamadpt0420_project_m1/data/raw/raw_data_project_m1.db\\n\\n%%sql tables <<\\n\\nSELECT \\n    name\\nFROM \\n    sqlite_master \\nWHERE \\n    type ='table' AND \\n    name NOT LIKE 'sqlite_%';\\n    \\ntables\\n\\n\""
      ]
     },
     "execution_count": 38,
     "metadata": {},
     "output_type": "execute_result"
    }
   ],
   "source": [
    "''' \n",
    "%sql sqlite:////home/david/Documents/ih_datamadpt0420_project_m1/data/raw/raw_data_project_m1.db\n",
    "\n",
    "%%sql tables <<\n",
    "\n",
    "SELECT \n",
    "    name\n",
    "FROM \n",
    "    sqlite_master \n",
    "WHERE \n",
    "    type ='table' AND \n",
    "    name NOT LIKE 'sqlite_%';\n",
    "    \n",
    "tables\n",
    "\n",
    "''' "
   ]
  },
  {
   "cell_type": "code",
   "execution_count": 3,
   "metadata": {},
   "outputs": [],
   "source": [
    "def table_names():\n",
    "\n",
    "    table_names = db_connection.table_names()\n",
    "    return table_names"
   ]
  },
  {
   "cell_type": "code",
   "execution_count": null,
   "metadata": {},
   "outputs": [],
   "source": []
  },
  {
   "cell_type": "code",
   "execution_count": 31,
   "metadata": {},
   "outputs": [],
   "source": [
    "def sql_query_to_df(table):\n",
    "    \n",
    "    select_all_query = pd.read_sql_query(f'SELECT * FROM {table}', db_connection)\n",
    "    return select_all_query"
   ]
  },
  {
   "cell_type": "code",
   "execution_count": 34,
   "metadata": {},
   "outputs": [],
   "source": [
    "def tables_to_df():\n",
    "    \n",
    "    df_list = []\n",
    " \n",
    "    for table in table_names():\n",
    "        sql_query = sql_query_to_df(table)\n",
    "        df_list.append(sql_query)\n",
    "        \n",
    "    return df_list"
   ]
  },
  {
   "cell_type": "code",
   "execution_count": 43,
   "metadata": {},
   "outputs": [
    {
     "data": {
      "text/html": [
       "<div>\n",
       "<style scoped>\n",
       "    .dataframe tbody tr th:only-of-type {\n",
       "        vertical-align: middle;\n",
       "    }\n",
       "\n",
       "    .dataframe tbody tr th {\n",
       "        vertical-align: top;\n",
       "    }\n",
       "\n",
       "    .dataframe thead th {\n",
       "        text-align: right;\n",
       "    }\n",
       "</style>\n",
       "<table border=\"1\" class=\"dataframe\">\n",
       "  <thead>\n",
       "    <tr style=\"text-align: right;\">\n",
       "      <th></th>\n",
       "      <th>uuid</th>\n",
       "      <th>question_bbi_2016wave4_basicincome_awareness</th>\n",
       "      <th>question_bbi_2016wave4_basicincome_vote</th>\n",
       "      <th>question_bbi_2016wave4_basicincome_effect</th>\n",
       "      <th>question_bbi_2016wave4_basicincome_argumentsfor</th>\n",
       "      <th>question_bbi_2016wave4_basicincome_argumentsagainst</th>\n",
       "    </tr>\n",
       "  </thead>\n",
       "  <tbody>\n",
       "    <tr>\n",
       "      <th>0</th>\n",
       "      <td>f6e7ee00-deac-0133-4de8-0a81e8b09a82</td>\n",
       "      <td>I know something about it</td>\n",
       "      <td>I would not vote</td>\n",
       "      <td>None of the above</td>\n",
       "      <td>None of the above</td>\n",
       "      <td>None of the above</td>\n",
       "    </tr>\n",
       "    <tr>\n",
       "      <th>1</th>\n",
       "      <td>54f0f1c0-dda1-0133-a559-0a81e8b09a82</td>\n",
       "      <td>I understand it fully</td>\n",
       "      <td>I would probably vote for it</td>\n",
       "      <td>A basic income would not affect my work choices</td>\n",
       "      <td>It increases appreciation for household work a...</td>\n",
       "      <td>It might encourage people to stop working</td>\n",
       "    </tr>\n",
       "    <tr>\n",
       "      <th>2</th>\n",
       "      <td>83127080-da3d-0133-c74f-0a81e8b09a82</td>\n",
       "      <td>I have heard just a little about it</td>\n",
       "      <td>I would not vote</td>\n",
       "      <td>‰Û_ gain additional skills</td>\n",
       "      <td>It creates more equality of opportunity</td>\n",
       "      <td>Foreigners might come to my country and take a...</td>\n",
       "    </tr>\n",
       "    <tr>\n",
       "      <th>3</th>\n",
       "      <td>15626d40-db13-0133-ea5c-0a81e8b09a82</td>\n",
       "      <td>I have heard just a little about it</td>\n",
       "      <td>I would probably vote for it</td>\n",
       "      <td>‰Û_ work less</td>\n",
       "      <td>It reduces anxiety about financing basic needs</td>\n",
       "      <td>None of the above</td>\n",
       "    </tr>\n",
       "    <tr>\n",
       "      <th>4</th>\n",
       "      <td>24954a70-db98-0133-4a64-0a81e8b09a82</td>\n",
       "      <td>I have heard just a little about it</td>\n",
       "      <td>I would probably vote for it</td>\n",
       "      <td>None of the above</td>\n",
       "      <td>It reduces anxiety about financing basic needs</td>\n",
       "      <td>It is impossible to finance | It might encoura...</td>\n",
       "    </tr>\n",
       "    <tr>\n",
       "      <th>...</th>\n",
       "      <td>...</td>\n",
       "      <td>...</td>\n",
       "      <td>...</td>\n",
       "      <td>...</td>\n",
       "      <td>...</td>\n",
       "      <td>...</td>\n",
       "    </tr>\n",
       "    <tr>\n",
       "      <th>9644</th>\n",
       "      <td>7d1ac020-dcb4-0133-817a-0a81e8b09a82</td>\n",
       "      <td>I understand it fully</td>\n",
       "      <td>I would probably vote for it</td>\n",
       "      <td>‰Û_ spend more time with my family</td>\n",
       "      <td>It reduces bureaucracy and administrative expe...</td>\n",
       "      <td>It is impossible to finance</td>\n",
       "    </tr>\n",
       "    <tr>\n",
       "      <th>9645</th>\n",
       "      <td>39f989f0-db52-0133-8482-0a81e8b09a82</td>\n",
       "      <td>I have never heard of it</td>\n",
       "      <td>I would probably vote against it</td>\n",
       "      <td>A basic income would not affect my work choices</td>\n",
       "      <td>It reduces bureaucracy and administrative expe...</td>\n",
       "      <td>It might encourage people to stop working | On...</td>\n",
       "    </tr>\n",
       "    <tr>\n",
       "      <th>9646</th>\n",
       "      <td>70ce4a90-d965-0133-f5e4-0a81e8b09a82</td>\n",
       "      <td>I have heard just a little about it</td>\n",
       "      <td>I would not vote</td>\n",
       "      <td>‰Û_ spend more time with my family</td>\n",
       "      <td>It reduces anxiety about financing basic needs</td>\n",
       "      <td>None of the above</td>\n",
       "    </tr>\n",
       "    <tr>\n",
       "      <th>9647</th>\n",
       "      <td>2896e440-db3c-0133-5b67-0a81e8b09a82</td>\n",
       "      <td>I understand it fully</td>\n",
       "      <td>I would vote for it</td>\n",
       "      <td>A basic income would not affect my work choices</td>\n",
       "      <td>It reduces bureaucracy and administrative expe...</td>\n",
       "      <td>Foreigners might come to my country and take a...</td>\n",
       "    </tr>\n",
       "    <tr>\n",
       "      <th>9648</th>\n",
       "      <td>06217ba0-dd56-0133-edda-0a81e8b09a82</td>\n",
       "      <td>I understand it fully</td>\n",
       "      <td>I would vote against it</td>\n",
       "      <td>A basic income would not affect my work choices</td>\n",
       "      <td>It reduces bureaucracy and administrative expe...</td>\n",
       "      <td>It might encourage people to stop working | It...</td>\n",
       "    </tr>\n",
       "  </tbody>\n",
       "</table>\n",
       "<p>9649 rows × 6 columns</p>\n",
       "</div>"
      ],
      "text/plain": [
       "                                      uuid  \\\n",
       "0     f6e7ee00-deac-0133-4de8-0a81e8b09a82   \n",
       "1     54f0f1c0-dda1-0133-a559-0a81e8b09a82   \n",
       "2     83127080-da3d-0133-c74f-0a81e8b09a82   \n",
       "3     15626d40-db13-0133-ea5c-0a81e8b09a82   \n",
       "4     24954a70-db98-0133-4a64-0a81e8b09a82   \n",
       "...                                    ...   \n",
       "9644  7d1ac020-dcb4-0133-817a-0a81e8b09a82   \n",
       "9645  39f989f0-db52-0133-8482-0a81e8b09a82   \n",
       "9646  70ce4a90-d965-0133-f5e4-0a81e8b09a82   \n",
       "9647  2896e440-db3c-0133-5b67-0a81e8b09a82   \n",
       "9648  06217ba0-dd56-0133-edda-0a81e8b09a82   \n",
       "\n",
       "     question_bbi_2016wave4_basicincome_awareness  \\\n",
       "0                       I know something about it   \n",
       "1                           I understand it fully   \n",
       "2             I have heard just a little about it   \n",
       "3             I have heard just a little about it   \n",
       "4             I have heard just a little about it   \n",
       "...                                           ...   \n",
       "9644                        I understand it fully   \n",
       "9645                     I have never heard of it   \n",
       "9646          I have heard just a little about it   \n",
       "9647                        I understand it fully   \n",
       "9648                        I understand it fully   \n",
       "\n",
       "     question_bbi_2016wave4_basicincome_vote  \\\n",
       "0                           I would not vote   \n",
       "1               I would probably vote for it   \n",
       "2                           I would not vote   \n",
       "3               I would probably vote for it   \n",
       "4               I would probably vote for it   \n",
       "...                                      ...   \n",
       "9644            I would probably vote for it   \n",
       "9645        I would probably vote against it   \n",
       "9646                        I would not vote   \n",
       "9647                     I would vote for it   \n",
       "9648                 I would vote against it   \n",
       "\n",
       "            question_bbi_2016wave4_basicincome_effect  \\\n",
       "0                                   None of the above   \n",
       "1     A basic income would not affect my work choices   \n",
       "2                          ‰Û_ gain additional skills   \n",
       "3                                       ‰Û_ work less   \n",
       "4                                   None of the above   \n",
       "...                                               ...   \n",
       "9644               ‰Û_ spend more time with my family   \n",
       "9645  A basic income would not affect my work choices   \n",
       "9646               ‰Û_ spend more time with my family   \n",
       "9647  A basic income would not affect my work choices   \n",
       "9648  A basic income would not affect my work choices   \n",
       "\n",
       "        question_bbi_2016wave4_basicincome_argumentsfor  \\\n",
       "0                                     None of the above   \n",
       "1     It increases appreciation for household work a...   \n",
       "2               It creates more equality of opportunity   \n",
       "3        It reduces anxiety about financing basic needs   \n",
       "4        It reduces anxiety about financing basic needs   \n",
       "...                                                 ...   \n",
       "9644  It reduces bureaucracy and administrative expe...   \n",
       "9645  It reduces bureaucracy and administrative expe...   \n",
       "9646     It reduces anxiety about financing basic needs   \n",
       "9647  It reduces bureaucracy and administrative expe...   \n",
       "9648  It reduces bureaucracy and administrative expe...   \n",
       "\n",
       "     question_bbi_2016wave4_basicincome_argumentsagainst  \n",
       "0                                     None of the above   \n",
       "1             It might encourage people to stop working   \n",
       "2     Foreigners might come to my country and take a...   \n",
       "3                                     None of the above   \n",
       "4     It is impossible to finance | It might encoura...   \n",
       "...                                                 ...   \n",
       "9644                        It is impossible to finance   \n",
       "9645  It might encourage people to stop working | On...   \n",
       "9646                                  None of the above   \n",
       "9647  Foreigners might come to my country and take a...   \n",
       "9648  It might encourage people to stop working | It...   \n",
       "\n",
       "[9649 rows x 6 columns]"
      ]
     },
     "execution_count": 43,
     "metadata": {},
     "output_type": "execute_result"
    }
   ],
   "source": []
  },
  {
   "cell_type": "code",
   "execution_count": null,
   "metadata": {},
   "outputs": [],
   "source": []
  },
  {
   "cell_type": "code",
   "execution_count": 2,
   "metadata": {},
   "outputs": [],
   "source": [
    "room = [\"XXX\", 3]"
   ]
  },
  {
   "cell_type": "code",
   "execution_count": 4,
   "metadata": {},
   "outputs": [
    {
     "data": {
      "text/plain": [
       "3"
      ]
     },
     "execution_count": 4,
     "metadata": {},
     "output_type": "execute_result"
    }
   ],
   "source": [
    "room[0].count('X')"
   ]
  },
  {
   "cell_type": "code",
   "execution_count": 5,
   "metadata": {},
   "outputs": [],
   "source": [
    "a = [0, 1, 2]"
   ]
  },
  {
   "cell_type": "code",
   "execution_count": 7,
   "metadata": {},
   "outputs": [
    {
     "data": {
      "text/plain": [
       "3"
      ]
     },
     "execution_count": 7,
     "metadata": {},
     "output_type": "execute_result"
    }
   ],
   "source": [
    "sum(a)"
   ]
  },
  {
   "cell_type": "code",
   "execution_count": null,
   "metadata": {},
   "outputs": [],
   "source": []
  }
 ],
 "metadata": {
  "kernelspec": {
   "display_name": "Python [conda env:ironhack]",
   "language": "python",
   "name": "conda-env-ironhack-py"
  },
  "language_info": {
   "codemirror_mode": {
    "name": "ipython",
    "version": 3
   },
   "file_extension": ".py",
   "mimetype": "text/x-python",
   "name": "python",
   "nbconvert_exporter": "python",
   "pygments_lexer": "ipython3",
   "version": "3.7.7"
  }
 },
 "nbformat": 4,
 "nbformat_minor": 4
}
